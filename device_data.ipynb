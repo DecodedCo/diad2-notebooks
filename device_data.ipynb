{
 "cells": [
  {
   "cell_type": "markdown",
   "metadata": {},
   "source": [
    "# Device-based Identity"
   ]
  },
  {
   "cell_type": "markdown",
   "metadata": {},
   "source": [
    "## Welcome to your notebook!\n",
    "\n",
    "This is a new notebook -- all your code and the variables and functions you defined in the last notebook don't exist here.\n",
    "\n",
    "We'll use this notebook for a dataset using different featuers collected from different user's phones, collected and made [publicly available](http://extrasensory.ucsd.edu/) as part of a study at UCSD. "
   ]
  },
  {
   "cell_type": "markdown",
   "metadata": {},
   "source": [
    "## Loading the dataset\n",
    "\n",
    "We'll use the same pandas library to load our new dataset"
   ]
  },
  {
   "cell_type": "code",
   "execution_count": null,
   "metadata": {},
   "outputs": [],
   "source": [
    "import pandas as pd\n",
    "\n",
    "data = pd.read_csv(\"data/device_data.csv\", index_col=0)\n",
    "data.head()"
   ]
  },
  {
   "cell_type": "markdown",
   "metadata": {},
   "source": [
    "This dataset has a lot of features, and this time, the column names are not anonymized!\n",
    "\n",
    "Let's take a look at what we have."
   ]
  },
  {
   "cell_type": "code",
   "execution_count": null,
   "metadata": {},
   "outputs": [],
   "source": [
    "list(data.columns)"
   ]
  },
  {
   "cell_type": "markdown",
   "metadata": {},
   "source": [
    "## Building our model\n",
    "\n",
    "Our \"inputs\" and \"outputs\" are a little different now, as we aren't making a direct prediction.\n",
    "\n",
    "Instead, we're interested in using the data to understand user behavior, so we won't include information about which user an observation is associated with in our clustering."
   ]
  },
  {
   "cell_type": "code",
   "execution_count": null,
   "metadata": {},
   "outputs": [],
   "source": [
    "X = data.drop('user', axis=1)\n",
    "y = data['user']\n",
    "\n",
    "from sklearn.manifold import TSNE\n",
    "X_reduced_tsne = TSNE(n_components=2, random_state=22).fit_transform(X.values)"
   ]
  },
  {
   "cell_type": "markdown",
   "metadata": {},
   "source": [
    "Let's take a look at our clustered observations."
   ]
  },
  {
   "cell_type": "code",
   "execution_count": null,
   "metadata": {},
   "outputs": [],
   "source": [
    "import matplotlib.pyplot as plt\n",
    "\n",
    "f, (ax1) = plt.subplots(1, 1, figsize=(16,16))\n",
    "ax1.scatter(X_reduced_tsne[:,0], X_reduced_tsne[:,1], c='gray', cmap='viridis', linewidths=2)"
   ]
  },
  {
   "cell_type": "markdown",
   "metadata": {},
   "source": [
    "# Evaluating our model\n",
    "\n",
    "Clearly there are clusters, but how well do they help us understand identity?\n",
    "\n",
    "Let's see the same mapping, but highlight each observation with the correct user from our dataset."
   ]
  },
  {
   "cell_type": "code",
   "execution_count": null,
   "metadata": {},
   "outputs": [],
   "source": [
    "f, (ax1) = plt.subplots(1, 1, figsize=(16,16))\n",
    "ax1.scatter(X_reduced_tsne[:,0], X_reduced_tsne[:,1], c=y, cmap='viridis', linewidths=2)"
   ]
  },
  {
   "cell_type": "markdown",
   "metadata": {},
   "source": [
    "## Model iteration\n",
    "\n",
    "Choose specific labels to dive deeper into your exploration of the dataset. What do you notice?"
   ]
  },
  {
   "cell_type": "code",
   "execution_count": null,
   "metadata": {},
   "outputs": [],
   "source": [
    "# Which column do you want to focus on? (Check out the labels in the columns list for options)\n",
    "COLUMN_NAME = \"label:PHONE_ON_TABLE\"\n",
    "\n",
    "# What value should be in that column? 0: label not applied, 1: label applied\n",
    "VALUE = 1\n",
    "\n",
    "# Give your chart a useful title\n",
    "TITLE = \"My Chart\"\n",
    "\n",
    "temp_data = data[data[COLUMN_NAME] == VALUE]\n",
    "\n",
    "X = temp_data.drop('user', axis=1)\n",
    "y = temp_data['user']\n",
    "\n",
    "X_reduced_tsne = TSNE(n_components=2, random_state=22).fit_transform(X.values)\n",
    "\n",
    "f, (ax1) = plt.subplots(1, 1, figsize=(16,16))\n",
    "ax1.scatter(X_reduced_tsne[:,0], X_reduced_tsne[:,1], c=y, cmap='viridis', linewidths=2)\n",
    "plt.title(TITLE)\n",
    "plt.show()"
   ]
  },
  {
   "cell_type": "code",
   "execution_count": null,
   "metadata": {},
   "outputs": [],
   "source": []
  }
 ],
 "metadata": {
  "kernelspec": {
   "display_name": "Python 3",
   "language": "python",
   "name": "python3"
  },
  "language_info": {
   "codemirror_mode": {
    "name": "ipython",
    "version": 3
   },
   "file_extension": ".py",
   "mimetype": "text/x-python",
   "name": "python",
   "nbconvert_exporter": "python",
   "pygments_lexer": "ipython3",
   "version": "3.7.4"
  }
 },
 "nbformat": 4,
 "nbformat_minor": 2
}
